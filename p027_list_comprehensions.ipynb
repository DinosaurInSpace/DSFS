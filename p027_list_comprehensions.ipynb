{
 "cells": [
  {
   "cell_type": "code",
   "execution_count": 29,
   "metadata": {},
   "outputs": [],
   "source": [
    "b = list(range(1,101))"
   ]
  },
  {
   "cell_type": "code",
   "execution_count": 30,
   "metadata": {},
   "outputs": [],
   "source": [
    "# List comprehension is pretty clever!  Can be used to generate lists or other objects \n",
    "# from subsets of previous objects\n",
    "\n",
    "even = [x for x in b if x % 2 == 0]\n",
    "\n",
    "squares = [x * x for x in b]\n",
    "\n",
    "squares_dict = {x: x*x for x in b}\n",
    "\n",
    "squares_tuple = tuple((x, x*x) for x in b)"
   ]
  },
  {
   "cell_type": "code",
   "execution_count": 31,
   "metadata": {},
   "outputs": [
    {
     "ename": "NameError",
     "evalue": "name 'list_comprehesnion_stuff' is not defined",
     "output_type": "error",
     "traceback": [
      "\u001b[0;31m---------------------------------------------------------------------------\u001b[0m",
      "\u001b[0;31mNameError\u001b[0m                                 Traceback (most recent call last)",
      "\u001b[0;32m<ipython-input-31-5f238d965942>\u001b[0m in \u001b[0;36m<module>\u001b[0;34m\u001b[0m\n\u001b[1;32m      2\u001b[0m \u001b[0;31m# Useful for large operations specifically when values will only be accessed once.\u001b[0m\u001b[0;34m\u001b[0m\u001b[0;34m\u001b[0m\u001b[0;34m\u001b[0m\u001b[0m\n\u001b[1;32m      3\u001b[0m \u001b[0;34m\u001b[0m\u001b[0m\n\u001b[0;32m----> 4\u001b[0;31m \u001b[0mvariable\u001b[0m \u001b[0;34m=\u001b[0m \u001b[0;34m(\u001b[0m\u001b[0mlist_comprehesnion_stuff\u001b[0m\u001b[0;34m)\u001b[0m \u001b[0;31m# Parenthesis make it lazy!\u001b[0m\u001b[0;34m\u001b[0m\u001b[0;34m\u001b[0m\u001b[0m\n\u001b[0m\u001b[1;32m      5\u001b[0m \u001b[0;34m\u001b[0m\u001b[0m\n\u001b[1;32m      6\u001b[0m \u001b[0mthis_dictionary\u001b[0m\u001b[0;34m.\u001b[0m\u001b[0mitems\u001b[0m\u001b[0;34m(\u001b[0m\u001b[0;34m)\u001b[0m \u001b[0;31m# is not lazy\u001b[0m\u001b[0;34m\u001b[0m\u001b[0;34m\u001b[0m\u001b[0m\n",
      "\u001b[0;31mNameError\u001b[0m: name 'list_comprehesnion_stuff' is not defined"
     ]
    }
   ],
   "source": [
    "# Generators and iterators produce numbers on the fly instead of up-front in memory.\n",
    "# Useful for large operations specifically when values will only be accessed once.\n",
    "'''\n",
    "variable = (list_comprehesnion_stuff) # Parenthesis make it lazy!\n",
    "\n",
    "this_dictionary.items() # is not lazy\n",
    "\n",
    "this_dictionary.iteritems() # is lazy\n",
    "'''"
   ]
  },
  {
   "cell_type": "code",
   "execution_count": 1,
   "metadata": {},
   "outputs": [
    {
     "data": {
      "text/plain": [
       "[1, 4, 9, 16]"
      ]
     },
     "execution_count": 1,
     "metadata": {},
     "output_type": "execute_result"
    }
   ],
   "source": [
    "# Map, reduce, filter are functional alternatives to list comprehension.\n",
    "\n",
    "def square(x):\n",
    "    return(x*x)\n",
    "\n",
    "y = [1, 2, 3, 4]\n",
    "\n",
    "squared = map(square, y)\n",
    "\n",
    "list(squared)"
   ]
  },
  {
   "cell_type": "code",
   "execution_count": 2,
   "metadata": {},
   "outputs": [
    {
     "data": {
      "text/plain": [
       "[2, 4]"
      ]
     },
     "execution_count": 2,
     "metadata": {},
     "output_type": "execute_result"
    }
   ],
   "source": [
    "def evens(x):\n",
    "    if x % 2 == 0:\n",
    "        return(True)\n",
    "    else:\n",
    "        False\n",
    "\n",
    "y = [1, 2, 3, 4]\n",
    "        \n",
    "even = filter(evens, y)\n",
    "\n",
    "list(even)\n"
   ]
  },
  {
   "cell_type": "code",
   "execution_count": 34,
   "metadata": {},
   "outputs": [
    {
     "data": {
      "text/plain": [
       "10"
      ]
     },
     "execution_count": 34,
     "metadata": {},
     "output_type": "execute_result"
    }
   ],
   "source": [
    "from functools import reduce\n",
    "\n",
    "def add(x,y):\n",
    "    return(x + y)\n",
    "\n",
    "y = [1, 2, 3, 4]\n",
    "\n",
    "reduced = reduce(add, y)\n",
    "\n",
    "reduced"
   ]
  },
  {
   "cell_type": "code",
   "execution_count": 36,
   "metadata": {},
   "outputs": [
    {
     "data": {
      "text/plain": [
       "[100, False, 102, 103, 104]"
      ]
     },
     "execution_count": 36,
     "metadata": {},
     "output_type": "execute_result"
    }
   ],
   "source": [
    "# Enumerate will go through a list and pull both index and value\n",
    "\n",
    "values = [100, 101, 102, 103, 104]\n",
    "\n",
    "for i, value in enumerate(values):\n",
    "    if value == 101:\n",
    "        values[i] = False\n",
    "        \n",
    "values"
   ]
  },
  {
   "cell_type": "code",
   "execution_count": 42,
   "metadata": {},
   "outputs": [
    {
     "name": "stdout",
     "output_type": "stream",
     "text": [
      "unnamed arguements:  (1, 'past') \n",
      "\n",
      "unnamed keyword args:  {}\n",
      "None\n",
      "unnamed arguements:  () \n",
      "\n",
      "unnamed keyword args:  {}\n",
      "None\n",
      "unnamed arguements:  () \n",
      "\n",
      "unnamed keyword args:  {'key': 'word', 'key2': 'words'}\n",
      "None\n"
     ]
    }
   ],
   "source": [
    "# args and kwargs let's you define a function that takes an arbitray amount of arguements!\n",
    "\n",
    "def magic(*args, **kwargs):\n",
    "    print(\"unnamed arguements: \", args, \"\\n\")\n",
    "    print(\"unnamed keyword args: \", kwargs)\n",
    "    \n",
    "print(magic(1, 'past'))\n",
    "print(magic())\n",
    "print(magic(key=\"word\", key2=\"words\"))\n"
   ]
  },
  {
   "cell_type": "code",
   "execution_count": null,
   "metadata": {},
   "outputs": [],
   "source": []
  }
 ],
 "metadata": {
  "kernelspec": {
   "display_name": "Python 3",
   "language": "python",
   "name": "python3"
  },
  "language_info": {
   "codemirror_mode": {
    "name": "ipython",
    "version": 3
   },
   "file_extension": ".py",
   "mimetype": "text/x-python",
   "name": "python",
   "nbconvert_exporter": "python",
   "pygments_lexer": "ipython3",
   "version": "3.7.3"
  }
 },
 "nbformat": 4,
 "nbformat_minor": 2
}
