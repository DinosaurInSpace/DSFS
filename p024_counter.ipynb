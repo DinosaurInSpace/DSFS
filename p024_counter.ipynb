{
 "cells": [
  {
   "cell_type": "code",
   "execution_count": 1,
   "metadata": {},
   "outputs": [],
   "source": [
    "from collections import Counter"
   ]
  },
  {
   "cell_type": "code",
   "execution_count": 2,
   "metadata": {},
   "outputs": [],
   "source": [
    "star = \"A star is an astronomical object consisting of a luminous spheroid of plasma held together by its own gravity. The nearest star to Earth is the Sun. Many other stars are visible to the naked eye from Earth during the night, appearing as a multitude of fixed luminous points in the sky due to their immense distance from Earth. Historically, the most prominent stars were grouped into constellations and asterisms, the brightest of which gained proper names. Astronomers have assembled star catalogues that identify the known stars and provide standardized stellar designations. However, most of the estimated 300 sextillion (3×1023)[1] stars in the observable universe are invisible to the naked eye from Earth, including all stars outside our galaxy, the Milky Way.\""
   ]
  },
  {
   "cell_type": "code",
   "execution_count": 5,
   "metadata": {},
   "outputs": [],
   "source": [
    "word_counts = Counter(star.split(\" \")) "
   ]
  },
  {
   "cell_type": "code",
   "execution_count": 6,
   "metadata": {},
   "outputs": [
    {
     "data": {
      "text/plain": [
       "Counter({'A': 1,\n",
       "         'star': 3,\n",
       "         'is': 2,\n",
       "         'an': 1,\n",
       "         'astronomical': 1,\n",
       "         'object': 1,\n",
       "         'consisting': 1,\n",
       "         'of': 5,\n",
       "         'a': 2,\n",
       "         'luminous': 2,\n",
       "         'spheroid': 1,\n",
       "         'plasma': 1,\n",
       "         'held': 1,\n",
       "         'together': 1,\n",
       "         'by': 1,\n",
       "         'its': 1,\n",
       "         'own': 1,\n",
       "         'gravity.': 1,\n",
       "         'The': 1,\n",
       "         'nearest': 1,\n",
       "         'to': 4,\n",
       "         'Earth': 2,\n",
       "         'the': 11,\n",
       "         'Sun.': 1,\n",
       "         'Many': 1,\n",
       "         'other': 1,\n",
       "         'stars': 5,\n",
       "         'are': 2,\n",
       "         'visible': 1,\n",
       "         'naked': 2,\n",
       "         'eye': 2,\n",
       "         'from': 3,\n",
       "         'during': 1,\n",
       "         'night,': 1,\n",
       "         'appearing': 1,\n",
       "         'as': 1,\n",
       "         'multitude': 1,\n",
       "         'fixed': 1,\n",
       "         'points': 1,\n",
       "         'in': 2,\n",
       "         'sky': 1,\n",
       "         'due': 1,\n",
       "         'their': 1,\n",
       "         'immense': 1,\n",
       "         'distance': 1,\n",
       "         'Earth.': 1,\n",
       "         'Historically,': 1,\n",
       "         'most': 2,\n",
       "         'prominent': 1,\n",
       "         'were': 1,\n",
       "         'grouped': 1,\n",
       "         'into': 1,\n",
       "         'constellations': 1,\n",
       "         'and': 2,\n",
       "         'asterisms,': 1,\n",
       "         'brightest': 1,\n",
       "         'which': 1,\n",
       "         'gained': 1,\n",
       "         'proper': 1,\n",
       "         'names.': 1,\n",
       "         'Astronomers': 1,\n",
       "         'have': 1,\n",
       "         'assembled': 1,\n",
       "         'catalogues': 1,\n",
       "         'that': 1,\n",
       "         'identify': 1,\n",
       "         'known': 1,\n",
       "         'provide': 1,\n",
       "         'standardized': 1,\n",
       "         'stellar': 1,\n",
       "         'designations.': 1,\n",
       "         'However,': 1,\n",
       "         'estimated': 1,\n",
       "         '300': 1,\n",
       "         'sextillion': 1,\n",
       "         '(3×1023)[1]': 1,\n",
       "         'observable': 1,\n",
       "         'universe': 1,\n",
       "         'invisible': 1,\n",
       "         'Earth,': 1,\n",
       "         'including': 1,\n",
       "         'all': 1,\n",
       "         'outside': 1,\n",
       "         'our': 1,\n",
       "         'galaxy,': 1,\n",
       "         'Milky': 1,\n",
       "         'Way.': 1})"
      ]
     },
     "execution_count": 6,
     "metadata": {},
     "output_type": "execute_result"
    }
   ],
   "source": [
    "word_counts"
   ]
  },
  {
   "cell_type": "code",
   "execution_count": 8,
   "metadata": {},
   "outputs": [
    {
     "name": "stdout",
     "output_type": "stream",
     "text": [
      "the 11\n",
      "of 5\n",
      "stars 5\n",
      "to 4\n",
      "star 3\n",
      "from 3\n",
      "is 2\n",
      "a 2\n",
      "luminous 2\n",
      "Earth 2\n"
     ]
    }
   ],
   "source": [
    "for word, count in word_counts.most_common(10):\n",
    "        print(word,count)"
   ]
  },
  {
   "cell_type": "code",
   "execution_count": null,
   "metadata": {},
   "outputs": [],
   "source": []
  }
 ],
 "metadata": {
  "kernelspec": {
   "display_name": "Python 3",
   "language": "python",
   "name": "python3"
  },
  "language_info": {
   "codemirror_mode": {
    "name": "ipython",
    "version": 3
   },
   "file_extension": ".py",
   "mimetype": "text/x-python",
   "name": "python",
   "nbconvert_exporter": "python",
   "pygments_lexer": "ipython3",
   "version": "3.7.3"
  }
 },
 "nbformat": 4,
 "nbformat_minor": 2
}
