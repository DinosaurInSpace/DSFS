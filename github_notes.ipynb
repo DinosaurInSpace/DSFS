{
 "cells": [
  {
   "cell_type": "code",
   "execution_count": null,
   "metadata": {},
   "outputs": [],
   "source": [
    "# How to duplicate a repository without forking it from the command line\n",
    "# https://help.github.com/en/articles/duplicating-a-repository\n",
    "\n",
    "# 1 terminal\n",
    "# 2 clone repository: \n",
    "#    $ git clone --bare https://github.com/exampleuser/old-repository.git\n",
    "# 3 cd old-repository.git\n",
    "# 4 create destination repository\n",
    "# 5 git remote add origin https://github.com/DinosaurInSpace/DSFS_copy.git\n",
    "# 6 git push -u origin master"
   ]
  }
 ],
 "metadata": {
  "kernelspec": {
   "display_name": "Python 3",
   "language": "python",
   "name": "python3"
  },
  "language_info": {
   "codemirror_mode": {
    "name": "ipython",
    "version": 3
   },
   "file_extension": ".py",
   "mimetype": "text/x-python",
   "name": "python",
   "nbconvert_exporter": "python",
   "pygments_lexer": "ipython3",
   "version": "3.7.3"
  }
 },
 "nbformat": 4,
 "nbformat_minor": 2
}
