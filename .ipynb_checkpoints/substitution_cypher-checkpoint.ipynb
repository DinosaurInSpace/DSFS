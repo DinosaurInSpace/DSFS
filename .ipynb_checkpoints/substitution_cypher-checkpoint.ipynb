{
 "cells": [
  {
   "cell_type": "code",
   "execution_count": 377,
   "metadata": {},
   "outputs": [],
   "source": [
    "# The purpose of this script is to generate, apply, and decode a simple substitution cypher\n",
    "# per the tutorial at: https://en.wikipedia.org/wiki/Star"
   ]
  },
  {
   "cell_type": "code",
   "execution_count": 391,
   "metadata": {},
   "outputs": [],
   "source": [
    "import random\n",
    "import re\n",
    "from collections import defaultdict as dd\n",
    "\n",
    "# https://en.wikipedia.org/wiki/Letter_frequency\n",
    "raw_text = \"\"\"\n",
    "            A star is an astronomical object consisting of a luminous spheroid of plasma held together by its own gravity. The nearest star to Earth is the Sun. Many other stars are visible to the naked eye from Earth during the night, appearing as a multitude of fixed luminous points in the sky due to their immense distance from Earth. Historically, the most prominent stars were grouped into constellations and asterisms, the brightest of which gained proper names. Astronomers have assembled star catalogues that identify the known stars and provide standardized stellar designations. However, most of the estimated 300 sextillion (3×1023)[1] stars in the observable universe are invisible to the naked eye from Earth, including all stars outside our galaxy, the Milky Way.\n",
    "            For at least a portion of its life, a star shines due to thermonuclear fusion of hydrogen into helium in its core, releasing energy that traverses the star's interior and then radiates into outer space. Almost all naturally occurring elements heavier than helium are created by stellar nucleosynthesis during the star's lifetime, and for some stars by supernova nucleosynthesis when it explodes. Near the end of its life, a star can also contain degenerate matter. Astronomers can determine the mass, age, metallicity (chemical composition), and many other properties of a star by observing its motion through space, its luminosity, and spectrum respectively. The total mass of a star is the main factor that determines its evolution and eventual fate. Other characteristics of a star, including diameter and temperature, change over its life, while the star's environment affects its rotation and movement. A plot of the temperature of many stars against their luminosities produces a plot known as a Hertzsprung–Russell diagram (H–R diagram). Plotting a particular star on that diagram allows the age and evolutionary state of that star to be determined.\n",
    "            A star's life begins with the gravitational collapse of a gaseous nebula of material composed primarily of hydrogen, along with helium and trace amounts of heavier elements. When the stellar core is sufficiently dense, hydrogen becomes steadily converted into helium through nuclear fusion, releasing energy in the process.[2] The remainder of the star's interior carries energy away from the core through a combination of radiative and convective heat transfer processes. The star's internal pressure prevents it from collapsing further under its own gravity. A star with mass greater than 0.4 times the Sun's will expand to become a red giant when the hydrogen fuel in its core is exhausted.[3] In some cases, it will fuse heavier elements at the core or in shells around the core. As the star expands it throws a part of its mass, enriched with those heavier elements, into the interstellar environment, to be recycled later as new stars.[4] Meanwhile, the core becomes a stellar remnant: a white dwarf, a neutron star, or, if it is sufficiently massive, a black hole.\n",
    "            Binary and multi-star systems consist of two or more stars that are gravitationally bound and generally move around each other in stable orbits. When two such stars have a relatively close orbit, their gravitational interaction can have a significant impact on their evolution.[5] Stars can form part of a much larger gravitationally bound structure, such as a star cluster or a galaxy.        \n",
    "            \"\"\"\n",
    "\n",
    "plain_text = re.sub('[^a-zA-Z]+', '', raw_text).lower()\n",
    "cypher_text = \"\""
   ]
  },
  {
   "cell_type": "code",
   "execution_count": 392,
   "metadata": {},
   "outputs": [],
   "source": [
    "plain_alphabet = list(\"abcdefghijklmnopqrstuvwxyz\")\n",
    "cypher_alphabet = random.sample(plain_alphabet,26)"
   ]
  },
  {
   "cell_type": "code",
   "execution_count": 393,
   "metadata": {},
   "outputs": [],
   "source": [
    "# This dictionary can be used to enact a simple replacement cypher.\n",
    "machine = dict(zip(plain_alphabet, cypher_alphabet))"
   ]
  },
  {
   "cell_type": "code",
   "execution_count": null,
   "metadata": {},
   "outputs": [],
   "source": []
  },
  {
   "cell_type": "code",
   "execution_count": 394,
   "metadata": {},
   "outputs": [],
   "source": [
    "for text in plain_text:\n",
    "    cypher_text += machine[text]\n",
    "    \n",
    "cypher_text_t = cypher_text[:]\n",
    "cypher_text_f = cypher_text[:]"
   ]
  },
  {
   "cell_type": "code",
   "execution_count": 395,
   "metadata": {},
   "outputs": [],
   "source": [
    "# Source: https://en.wikipedia.org/wiki/Letter_frequency\n",
    "\n",
    "english_freq = {\"a\": 8.167, \"b\": 1.492, \"c\": 2.782, \"d\": 4.253,\n",
    "                \"e\": 12.702, \"f\": 2.228, \"g\": 2.015, \"h\": 6.094, \n",
    "                \"i\": 6.966, \"j\": 0.153, \"k\": 0.772, \"l\": 4.025,\n",
    "                \"m\": 2.406, \"n\": 6.749, \"o\": 7.507, \"p\": 1.929,\n",
    "                \"q\": 0.095, \"r\": 5.987, \"s\": 6.327, \"t\": 9.056,\n",
    "                \"u\": 2.758, \"v\": 0.978, \"w\": 2.360, \"x\": 0.150,\n",
    "                \"y\": 1.974, \"z\": 0.074\n",
    "               }"
   ]
  },
  {
   "cell_type": "code",
   "execution_count": 396,
   "metadata": {},
   "outputs": [],
   "source": [
    "cypher_count = dd(int)\n",
    "\n",
    "for text in cypher_text:\n",
    "    cypher_count[text] += 1\n",
    "    \n",
    "plain_count = dd(int)\n",
    "\n",
    "for text in plain_text:\n",
    "    plain_count[text] += 1   "
   ]
  },
  {
   "cell_type": "code",
   "execution_count": 397,
   "metadata": {},
   "outputs": [],
   "source": [
    "cypher_count = dict(cypher_count)\n",
    "plain_count = dict(plain_count)"
   ]
  },
  {
   "cell_type": "code",
   "execution_count": 398,
   "metadata": {},
   "outputs": [],
   "source": [
    "# Assume frequency counts match for English and sample text.\n",
    "# 1) Find largest value in cc and ef, 2) add to deconder, 3) delete.\n",
    "# Do this for t = true frequency count, and f = predicted frequency count.\n",
    "\n",
    "decoder_t = {}\n",
    "decoder_f = {}\n",
    "\n",
    "while len(cypher_count) > 0:\n",
    "    c_max = max(cypher_count, key=cypher_count.get)\n",
    "    t_max = max(plain_count, key=plain_count.get)\n",
    "    f_max = max(english_freq, key=english_freq.get)\n",
    "    \n",
    "    decoder_t[t_max] = c_max\n",
    "    decoder_f[f_max] = c_max\n",
    "    \n",
    "    del cypher_count[c_max]\n",
    "    del english_freq[f_max]\n",
    "    del plain_count[t_max]\n"
   ]
  },
  {
   "cell_type": "code",
   "execution_count": 399,
   "metadata": {
    "scrolled": false
   },
   "outputs": [],
   "source": [
    "# .upper() ensures replacement values are not replaced again.\n",
    "for k, v in decoder_t.items():\n",
    "    cypher_text_t = cypher_text_t.replace(v, k.upper())\n",
    "    \n",
    "for k, v in decoder_f.items():\n",
    "    cypher_text_f = cypher_text_f.replace(v, k.upper())\n",
    "    "
   ]
  },
  {
   "cell_type": "code",
   "execution_count": 400,
   "metadata": {
    "scrolled": true
   },
   "outputs": [
    {
     "data": {
      "text/plain": [
       "'mfkmolfmpmfkobpbtlumnbgrjukubpflfklphbsmnitlpbiffvyjoblebsvnmftmyjnekbhjkyjogxlkfbdphomclkxkyjpjmojfkfkmokbjmokylfkyjfiptmpxbkyjofkmofmojclflgnjkbkyjpmqjejxjsobtjmokyeiolphkyjplhykmvvjmolphmfmtinklkiejbsslajenitlpbifvblpkflpkyjfqxeijkbkyjlolttjpfjelfkmpujsobtjmokyylfkbolumnnxkyjtbfkvobtlpjpkfkmofdjojhobivjelpkbubpfkjnnmklbpfmpemfkjolftfkyjgolhykjfkbsdyluyhmlpjevobvjopmtjfmfkobpbtjofymcjmffjtgnjefkmoumkmnbhijfkymklejpklsxkyjqpbdpfkmofmpevobclejfkmpemoelwjefkjnnmoejflhpmklbpfybdjcjotbfkbskyjjfkltmkjefjaklnnlbpfkmoflpkyjbgfjocmgnjiplcjofjmojlpclflgnjkbkyjpmqjejxjsobtjmokylpunielphmnnfkmofbikflejbiohmnmaxkyjtlnqxdmxsbomknjmfkmvboklbpbslkfnlsjmfkmofylpjfeijkbkyjotbpiunjmosiflbpbsyxeobhjplpkbyjnlitlplkfubojojnjmflphjpjohxkymkkomcjofjfkyjfkmoflpkjolbompekyjpomelmkjflpkbbikjofvmujmntbfkmnnpmkiomnnxbuuioolphjnjtjpkfyjmcljokympyjnlitmojuojmkjegxfkjnnmopiunjbfxpkyjflfeiolphkyjfkmofnlsjkltjmpesbofbtjfkmofgxfivjopbcmpiunjbfxpkyjflfdyjplkjavnbejfpjmokyjjpebslkfnlsjmfkmoumpmnfbubpkmlpejhjpjomkjtmkkjomfkobpbtjofumpejkjotlpjkyjtmffmhjtjkmnnlulkxuyjtlumnubtvbflklbpmpetmpxbkyjovobvjokljfbsmfkmogxbgfjoclphlkftbklbpkyobihyfvmujlkfnitlpbflkxmpefvjukoitojfvjuklcjnxkyjkbkmntmffbsmfkmolfkyjtmlpsmukbokymkejkjotlpjflkfjcbniklbpmpejcjpkimnsmkjbkyjouymomukjolfklufbsmfkmolpunielphelmtjkjompekjtvjomkiojuymphjbcjolkfnlsjdylnjkyjfkmofjpclobptjpkmssjukflkfobkmklbpmpetbcjtjpkmvnbkbskyjkjtvjomkiojbstmpxfkmofmhmlpfkkyjlonitlpbflkljfvobeiujfmvnbkqpbdpmfmyjokwfvoiphoiffjnnelmhomtyoelmhomtvnbkklphmvmokluinmofkmobpkymkelmhomtmnnbdfkyjmhjmpejcbniklbpmoxfkmkjbskymkfkmokbgjejkjotlpjemfkmofnlsjgjhlpfdlkykyjhomclkmklbpmnubnnmvfjbsmhmfjbifpjginmbstmkjolmnubtvbfjevoltmolnxbsyxeobhjpmnbphdlkyyjnlitmpekomujmtbipkfbsyjmcljojnjtjpkfdyjpkyjfkjnnmoubojlffissluljpknxejpfjyxeobhjpgjubtjffkjmelnxubpcjokjelpkbyjnlitkyobihypiunjmosiflbpojnjmflphjpjohxlpkyjvobujffkyjojtmlpejobskyjfkmoflpkjolboumooljfjpjohxmdmxsobtkyjubojkyobihymubtglpmklbpbsomelmklcjmpeubpcjuklcjyjmkkompfsjovobujffjfkyjfkmoflpkjopmnvojffiojvojcjpkflksobtubnnmvflphsiokyjoipejolkfbdphomclkxmfkmodlkytmffhojmkjokympkltjfkyjfipfdlnnjavmpekbgjubtjmojehlmpkdyjpkyjyxeobhjpsijnlplkfubojlfjaymifkjelpfbtjumfjflkdlnnsifjyjmcljojnjtjpkfmkkyjubojbolpfyjnnfmobipekyjubojmfkyjfkmojavmpeflkkyobdfmvmokbslkftmffjpoluyjedlkykybfjyjmcljojnjtjpkflpkbkyjlpkjofkjnnmojpclobptjpkkbgjojuxunjenmkjomfpjdfkmoftjmpdylnjkyjubojgjubtjfmfkjnnmoojtpmpkmdylkjedmosmpjikobpfkmobolslklffissluljpknxtmfflcjmgnmuqybnjglpmoxmpetinklfkmofxfkjtfubpflfkbskdbbotbojfkmofkymkmojhomclkmklbpmnnxgbipempehjpjomnnxtbcjmobipejmuybkyjolpfkmgnjboglkfdyjpkdbfiuyfkmofymcjmojnmklcjnxunbfjboglkkyjlohomclkmklbpmnlpkjomuklbpumpymcjmflhplslumpkltvmukbpkyjlojcbniklbpfkmofumpsbotvmokbsmtiuynmohjohomclkmklbpmnnxgbipefkoiukiojfiuymfmfkmounifkjobomhmnmax'"
      ]
     },
     "execution_count": 400,
     "metadata": {},
     "output_type": "execute_result"
    }
   ],
   "source": [
    "cypher_text"
   ]
  },
  {
   "cell_type": "code",
   "execution_count": 401,
   "metadata": {
    "scrolled": true
   },
   "outputs": [
    {
     "name": "stdout",
     "output_type": "stream",
     "text": [
      "Cypher text decrypted with the true frequency count:\n",
      " astarisanastronomicalobjectconsistingofaluminousspheroidofplasmaheldtogetherbyitsowngravitytheneareststartoearthisthesunmanyotherstarsarevisibletothenakedeyefromearthduringthenightappearingasamultitudeoffixedluminouspointsintheskyduetotheirimmensedistancefromearthhistoricallythemostprominentstarsweregroupedintoconstellationsandasterismsthebrightestofwhichgainedpropernamesastronomershaveassembledstarcataloguesthatidentifytheknownstarsandprovidestandardizedstellardesignationshowevermostoftheestimatedsextillionstarsintheobservableuniverseareinvisibletothenakedeyefromearthincludingallstarsoutsideourgalaxythemilkywayforatleastaportionofitslifeastarshinesduetothermonuclearfusionofhydrogenintoheliuminitscorereleasingenergythattraversesthestarsinteriorandthenradiatesintoouterspacealmostallnaturallyoccurringelementsheavierthanheliumarecreatedbystellarnucleosynthesisduringthestarslifetimeandforsomestarsbysupernovanucleosynthesiswhenitexplodesneartheendofitslifeastarcanalsocontaindegeneratematterastronomerscandeterminethemassagemetallicitychemicalcompositionandmanyotherpropertiesofastarbyobservingitsmotionthroughspaceitsluminosityandspectrumrespectivelythetotalmassofastaristhemainfactorthatdeterminesitsevolutionandeventualfateothercharacteristicsofastarincludingdiameterandtemperaturechangeoveritslifewhilethestarsenvironmentaffectsitsrotationandmovementaplotofthetemperatureofmanystarsagainsttheirluminositiesproducesaplotknownasahertzsprungrusselldiagramhrdiagramplottingaparticularstaronthatdiagramallowstheageandevolutionarystateofthatstartobedeterminedastarslifebeginswiththegravitationalcollapseofagaseousnebulaofmaterialcomposedprimarilyofhydrogenalongwithheliumandtraceamountsofheavierelementswhenthestellarcoreissufficientlydensehydrogenbecomessteadilyconvertedintoheliumthroughnuclearfusionreleasingenergyintheprocesstheremainderofthestarsinteriorcarriesenergyawayfromthecorethroughacombinationofradiativeandconvectiveheattransferprocessesthestarsinternalpressurepreventsitfromcollapsingfurtherunderitsowngravityastarwithmassgreaterthantimesthesunswillexpandtobecomearedgiantwhenthehydrogenfuelinitscoreisexhaustedinsomecasesitwillfuseheavierelementsatthecoreorinshellsaroundthecoreasthestarexpandsitthrowsapartofitsmassenrichedwiththoseheavierelementsintotheinterstellarenvironmenttoberecycledlaterasnewstarsmeanwhilethecorebecomesastellarremnantawhitedwarfaneutronstarorifitissufficientlymassiveablackholebinaryandmultistarsystemsconsistoftwoormorestarsthataregravitationallyboundandgenerallymovearoundeachotherinstableorbitswhentwosuchstarshavearelativelycloseorbittheirgravitationalinteractioncanhaveasignificantimpactontheirevolutionstarscanformpartofamuchlargergravitationallyboundstructuresuchasastarclusteroragalaxy \n",
      "\n",
      "Cypher text decrypted with the theoretical frequency count:\n",
      " aotainoasaotihshlncarhvqectchsonotnsfhwarmlnshmooydeihnuhwyraoladeruthfetdeivgntohbsfiapntgtdeseaieototaitheaitdnotdeomslasghtdeiotaioaiepnonvrethtdesajeuegewihleaitduminsftdesnfdtayyeainsfaoalmrtntmuehwwnkeurmlnshmoyhnstonstdeojgumethtdeninllesoeunotascewihleaitddnothincarrgtdelhotyihlnsestotaiobeiefihmyeunsthchsoterratnhsoasuaoteinolotdevinfdteothwbdncdfanseuyihyeisaleoaotihshleiodapeaooelvreuotaicatarhfmeotdatnuestnwgtdejshbsotaioasuyihpnueotasuaiunxeuoterraiueonfsatnhsodhbepeilhothwtdeeotnlateuoektnrrnhsotaionstdehvoeipavremsnpeioeaienspnonvrethtdesajeuegewihleaitdnscrmunsfarrotaiohmtonuehmifarakgtdelnrjgbagwhiatreaotayhitnhshwntornweaotaiodnseoumethtdeilhsmcreaiwmonhshwdguihfesnsthdernmlnsntochieiereaonsfeseifgtdattiapeioeotdeotaionsteinhiasutdesiaunateonsthhmteioyacearlhotarrsatmiarrghccmiinsferelestodeapneitdasdernmlaiecieateuvgoterraismcrehogstdeonouminsftdeotaiornwetnleasuwhiohleotaiovgomyeishpasmcrehogstdeonobdesntekyrhueoseaitdeesuhwntornweaotaicasarohchstansuefeseiatelatteiaotihshleiocasueteilnsetdelaooafeletarrncntgcdelncarchlyhontnhsasulasghtdeiyihyeitneohwaotaivghvoeipnsfntolhtnhstdihmfdoyacentormlnshontgasuoyectimlieoyectnpergtdethtarlaoohwaotainotdelanswacthitdatueteilnseontoephrmtnhsasuepestmarwatehtdeicdaiacteinotncohwaotainscrmunsfunaleteiasutelyeiatmiecdasfehpeintornwebdnretdeotaioespnihslestawwectontoihtatnhsasulhpelestayrhthwtdetelyeiatmiehwlasgotaioafansottdenirmlnshontneoyihumceoayrhtjshbsaoadeitxoyimsfimooerrunafialdiunafialyrhttnsfayaitncmraiotaihstdatunafialarrhbotdeafeasuephrmtnhsaigotatehwtdatotaithveueteilnseuaotaiornwevefnsobntdtdefiapntatnhsarchrrayoehwafaoehmosevmrahwlateinarchlyhoeuyinlainrghwdguihfesarhsfbntddernmlasutiacealhmstohwdeapneierelestobdestdeoterraichienoomwwncnestrguesoedguihfesvechleooteaunrgchspeiteunsthdernmltdihmfdsmcreaiwmonhsiereaonsfeseifgnstdeyihceootdeielansueihwtdeotaionsteinhicaiineoeseifgabagwihltdechietdihmfdachlvnsatnhshwiaunatnpeasuchspectnpedeattiasoweiyihceooeotdeotaionsteisaryieoomieyiepestontwihlchrrayonsfwmitdeimsueintohbsfiapntgaotaibntdlaoofieateitdastnleotdeomsobnrrekyasuthvechleaieufnastbdestdedguihfeswmernsntochienoekdamoteunsohlecaoeontbnrrwmoedeapneierelestoattdechiehinsoderroaihmsutdechieaotdeotaiekyasuonttdihboayaithwntolaooesincdeubntdtdhoedeapneierelestonsthtdensteioterraiespnihslestthveiecgcreurateiaosebotaioleasbdnretdechievechleoaoterraiielsastabdnteubaiwasemtihsotaihinwntnoomwwncnestrglaoonpeavracjdhrevnsaigasulmrtnotaiogotelochsonothwtbhhilhieotaiotdataiefiapntatnhsarrgvhmsuasufeseiarrglhpeaihmsueacdhtdeinsotavrehivntobdestbhomcdotaiodapeaieratnpergcrhoehivnttdenifiapntatnhsarnsteiactnhscasdapeaonfsnwncastnlyacthstdeniephrmtnhsotaiocaswhilyaithwalmcdraifeifiapntatnhsarrgvhmsuotimctmieomcdaoaotaicrmoteihiafarakg\n"
     ]
    }
   ],
   "source": [
    "print(\"Cypher text decrypted with the true frequency count:\\n\", cypher_text_t.lower(),\"\\n\")\n",
    "print(\"Cypher text decrypted with the theoretical frequency count:\\n\", cypher_text_f.lower())"
   ]
  },
  {
   "cell_type": "code",
   "execution_count": 402,
   "metadata": {},
   "outputs": [
    {
     "name": "stdout",
     "output_type": "stream",
     "text": [
      "This the percent match between using the actual and theoretical letter count:  34.82859226841721 %\n"
     ]
    }
   ],
   "source": [
    "actual = list(cypher_text_t.lower())\n",
    "theoretical = list(cypher_text_f.lower())\n",
    "\n",
    "numerator = 0\n",
    "i = 0\n",
    "\n",
    "while i < len(actual):\n",
    "    if actual[i] == theoretical[i]:\n",
    "        numerator += 1\n",
    "    i += 1\n",
    "        \n",
    "percent_match = numerator / len(actual) *100\n",
    "\n",
    "print(\"This the percent match between using the actual and theoretical letter count: \",\n",
    "      percent_match,\n",
    "      \"%\"\n",
    "     )"
   ]
  },
  {
   "cell_type": "code",
   "execution_count": 403,
   "metadata": {},
   "outputs": [],
   "source": [
    "# Clearly there is a large divergence for this text between actual and theoretical letter\n",
    "# frquency distributions in English.  However, getting 35% of the letters to match is a good\n",
    "# start."
   ]
  },
  {
   "cell_type": "code",
   "execution_count": null,
   "metadata": {},
   "outputs": [],
   "source": []
  }
 ],
 "metadata": {
  "kernelspec": {
   "display_name": "Python 3",
   "language": "python",
   "name": "python3"
  },
  "language_info": {
   "codemirror_mode": {
    "name": "ipython",
    "version": 3
   },
   "file_extension": ".py",
   "mimetype": "text/x-python",
   "name": "python",
   "nbconvert_exporter": "python",
   "pygments_lexer": "ipython3",
   "version": "3.7.3"
  }
 },
 "nbformat": 4,
 "nbformat_minor": 2
}
